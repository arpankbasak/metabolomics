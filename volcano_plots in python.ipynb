{
 "cells": [
  {
   "cell_type": "markdown",
   "metadata": {},
   "source": [
    "# This notebook will make a volcano plot entirely in python, now that the adjustText package has found.\n",
    "## This library is written for python 3. If you have anaconda installed, then only additional package you'll need is adjustText, which you can install with pip\n",
    "### this notebook will go through the entire process from the NMR bin shift data and labelled metabolites, to the end result of a volcano plot. I've also included a short cell showing how to generate box plots for metabolites of interest that you've generated from the volcano plot"
   ]
  },
  {
   "cell_type": "code",
   "execution_count": 1,
   "metadata": {
    "collapsed": true
   },
   "outputs": [],
   "source": [
    "#load needed libraries, the following come automatically with anaconda\n",
    "import pandas as pd\n",
    "import numpy as np\n",
    "import matplotlib.pyplot as plt\n",
    "import seaborn as sns\n",
    "from scipy import stats\n",
    "from statsmodels.sandbox.stats.multicomp import multipletests\n",
    "%matplotlib inline\n",
    "#this library you'll have to install with pip in command line\n",
    "from adjustText import adjust_text"
   ]
  },
  {
   "cell_type": "code",
   "execution_count": 2,
   "metadata": {},
   "outputs": [
    {
     "data": {
      "text/plain": [
       "((20, 1749), (20,), (1749,))"
      ]
     },
     "execution_count": 2,
     "metadata": {},
     "output_type": "execute_result"
    }
   ],
   "source": [
    "#load nmr bin shift data and metabolites labels csv file then pre-process \n",
    "data = np.loadtxt('./VolcanoPlots/EMH_bin_shift_data.txt', delimiter= ' ')\n",
    "labels = pd.read_csv('./VolcanoPlots/Ecoli_MH_FvsS.csv')\n",
    "cls = data[1:,0]\n",
    "ppm =data[0, 1:]\n",
    "df = data[1:,1:]\n",
    "df.shape, cls.shape, ppm.shape"
   ]
  },
  {
   "cell_type": "code",
   "execution_count": 3,
   "metadata": {},
   "outputs": [
    {
     "data": {
      "text/html": [
       "<div>\n",
       "<style>\n",
       "    .dataframe thead tr:only-child th {\n",
       "        text-align: right;\n",
       "    }\n",
       "\n",
       "    .dataframe thead th {\n",
       "        text-align: left;\n",
       "    }\n",
       "\n",
       "    .dataframe tbody tr th {\n",
       "        vertical-align: top;\n",
       "    }\n",
       "</style>\n",
       "<table border=\"1\" class=\"dataframe\">\n",
       "  <thead>\n",
       "    <tr style=\"text-align: right;\">\n",
       "      <th></th>\n",
       "      <th>metabolite</th>\n",
       "      <th>ppm</th>\n",
       "      <th>idx</th>\n",
       "    </tr>\n",
       "  </thead>\n",
       "  <tbody>\n",
       "    <tr>\n",
       "      <th>0</th>\n",
       "      <td>Leucine</td>\n",
       "      <td>0.967</td>\n",
       "      <td>1658</td>\n",
       "    </tr>\n",
       "    <tr>\n",
       "      <th>1</th>\n",
       "      <td>Isoleucine</td>\n",
       "      <td>1.024</td>\n",
       "      <td>1647</td>\n",
       "    </tr>\n",
       "    <tr>\n",
       "      <th>2</th>\n",
       "      <td>Valine</td>\n",
       "      <td>0.997</td>\n",
       "      <td>1652</td>\n",
       "    </tr>\n",
       "    <tr>\n",
       "      <th>3</th>\n",
       "      <td>Threonine</td>\n",
       "      <td>1.353</td>\n",
       "      <td>1583</td>\n",
       "    </tr>\n",
       "    <tr>\n",
       "      <th>4</th>\n",
       "      <td>Acetate</td>\n",
       "      <td>1.939</td>\n",
       "      <td>1469</td>\n",
       "    </tr>\n",
       "  </tbody>\n",
       "</table>\n",
       "</div>"
      ],
      "text/plain": [
       "   metabolite    ppm   idx\n",
       "0     Leucine  0.967  1658\n",
       "1  Isoleucine  1.024  1647\n",
       "2      Valine  0.997  1652\n",
       "3   Threonine  1.353  1583\n",
       "4    Acetate   1.939  1469"
      ]
     },
     "execution_count": 3,
     "metadata": {},
     "output_type": "execute_result"
    }
   ],
   "source": [
    "#find indices of ppm values\n",
    "labels['idx'] = [np.argmin(np.abs(ppm-i)) for i in labels['ppm']]\n",
    "labels.head()"
   ]
  },
  {
   "cell_type": "code",
   "execution_count": 4,
   "metadata": {},
   "outputs": [
    {
     "data": {
      "text/html": [
       "<div>\n",
       "<style>\n",
       "    .dataframe thead tr:only-child th {\n",
       "        text-align: right;\n",
       "    }\n",
       "\n",
       "    .dataframe thead th {\n",
       "        text-align: left;\n",
       "    }\n",
       "\n",
       "    .dataframe tbody tr th {\n",
       "        vertical-align: top;\n",
       "    }\n",
       "</style>\n",
       "<table border=\"1\" class=\"dataframe\">\n",
       "  <thead>\n",
       "    <tr style=\"text-align: right;\">\n",
       "      <th>metabolite</th>\n",
       "      <th>Leucine</th>\n",
       "      <th>Isoleucine</th>\n",
       "      <th>Valine</th>\n",
       "      <th>Threonine</th>\n",
       "      <th>Acetate</th>\n",
       "      <th>Methionine</th>\n",
       "      <th>Propionate</th>\n",
       "      <th>Glutamate</th>\n",
       "      <th>Succinate</th>\n",
       "      <th>5,6-dihydrouracile</th>\n",
       "      <th>...</th>\n",
       "      <th>?</th>\n",
       "      <th>Serine</th>\n",
       "      <th>Glucose</th>\n",
       "      <th>Uracil</th>\n",
       "      <th>Uridine</th>\n",
       "      <th>Tyrosine</th>\n",
       "      <th>Phenylalanine</th>\n",
       "      <th>Hypoxanthine</th>\n",
       "      <th>Formate</th>\n",
       "      <th>cls</th>\n",
       "    </tr>\n",
       "  </thead>\n",
       "  <tbody>\n",
       "    <tr>\n",
       "      <th>0</th>\n",
       "      <td>1.103045</td>\n",
       "      <td>0.239547</td>\n",
       "      <td>0.354272</td>\n",
       "      <td>0.071846</td>\n",
       "      <td>1.948215</td>\n",
       "      <td>0.409550</td>\n",
       "      <td>0.134651</td>\n",
       "      <td>0.309750</td>\n",
       "      <td>1.580362</td>\n",
       "      <td>0.064816</td>\n",
       "      <td>...</td>\n",
       "      <td>1.153034</td>\n",
       "      <td>0.041728</td>\n",
       "      <td>0.001175</td>\n",
       "      <td>0.081093</td>\n",
       "      <td>0.000724</td>\n",
       "      <td>0.078666</td>\n",
       "      <td>0.109909</td>\n",
       "      <td>0.002798</td>\n",
       "      <td>0.000132</td>\n",
       "      <td>1.0</td>\n",
       "    </tr>\n",
       "    <tr>\n",
       "      <th>1</th>\n",
       "      <td>1.409578</td>\n",
       "      <td>0.318107</td>\n",
       "      <td>0.439371</td>\n",
       "      <td>0.097783</td>\n",
       "      <td>2.270976</td>\n",
       "      <td>0.497375</td>\n",
       "      <td>0.164229</td>\n",
       "      <td>0.401138</td>\n",
       "      <td>2.052057</td>\n",
       "      <td>0.075339</td>\n",
       "      <td>...</td>\n",
       "      <td>1.503796</td>\n",
       "      <td>0.057747</td>\n",
       "      <td>0.003368</td>\n",
       "      <td>0.149192</td>\n",
       "      <td>0.000183</td>\n",
       "      <td>0.106194</td>\n",
       "      <td>0.142037</td>\n",
       "      <td>0.004069</td>\n",
       "      <td>0.000166</td>\n",
       "      <td>1.0</td>\n",
       "    </tr>\n",
       "    <tr>\n",
       "      <th>2</th>\n",
       "      <td>1.607807</td>\n",
       "      <td>0.361371</td>\n",
       "      <td>0.503525</td>\n",
       "      <td>0.107015</td>\n",
       "      <td>2.724482</td>\n",
       "      <td>0.573550</td>\n",
       "      <td>0.188889</td>\n",
       "      <td>0.452011</td>\n",
       "      <td>2.263600</td>\n",
       "      <td>0.089615</td>\n",
       "      <td>...</td>\n",
       "      <td>1.683030</td>\n",
       "      <td>0.066523</td>\n",
       "      <td>0.002509</td>\n",
       "      <td>0.126703</td>\n",
       "      <td>0.000280</td>\n",
       "      <td>0.114196</td>\n",
       "      <td>0.163359</td>\n",
       "      <td>0.005071</td>\n",
       "      <td>0.000230</td>\n",
       "      <td>1.0</td>\n",
       "    </tr>\n",
       "    <tr>\n",
       "      <th>3</th>\n",
       "      <td>1.535561</td>\n",
       "      <td>0.347631</td>\n",
       "      <td>0.504799</td>\n",
       "      <td>0.103669</td>\n",
       "      <td>2.441122</td>\n",
       "      <td>0.545844</td>\n",
       "      <td>0.190863</td>\n",
       "      <td>0.439846</td>\n",
       "      <td>1.999999</td>\n",
       "      <td>0.086456</td>\n",
       "      <td>...</td>\n",
       "      <td>1.532708</td>\n",
       "      <td>0.064146</td>\n",
       "      <td>0.005161</td>\n",
       "      <td>0.099306</td>\n",
       "      <td>0.000528</td>\n",
       "      <td>0.107324</td>\n",
       "      <td>0.151603</td>\n",
       "      <td>0.003879</td>\n",
       "      <td>0.000189</td>\n",
       "      <td>1.0</td>\n",
       "    </tr>\n",
       "    <tr>\n",
       "      <th>4</th>\n",
       "      <td>1.619419</td>\n",
       "      <td>0.343338</td>\n",
       "      <td>0.516791</td>\n",
       "      <td>0.112011</td>\n",
       "      <td>2.869103</td>\n",
       "      <td>0.603847</td>\n",
       "      <td>0.198183</td>\n",
       "      <td>0.455350</td>\n",
       "      <td>2.322054</td>\n",
       "      <td>0.092811</td>\n",
       "      <td>...</td>\n",
       "      <td>1.690905</td>\n",
       "      <td>0.058477</td>\n",
       "      <td>0.001738</td>\n",
       "      <td>0.116270</td>\n",
       "      <td>0.001015</td>\n",
       "      <td>0.115765</td>\n",
       "      <td>0.163214</td>\n",
       "      <td>0.004324</td>\n",
       "      <td>0.000472</td>\n",
       "      <td>1.0</td>\n",
       "    </tr>\n",
       "  </tbody>\n",
       "</table>\n",
       "<p>5 rows × 25 columns</p>\n",
       "</div>"
      ],
      "text/plain": [
       "metabolite   Leucine  Isoleucine    Valine  Threonine  Acetate   Methionine  \\\n",
       "0           1.103045    0.239547  0.354272   0.071846  1.948215    0.409550   \n",
       "1           1.409578    0.318107  0.439371   0.097783  2.270976    0.497375   \n",
       "2           1.607807    0.361371  0.503525   0.107015  2.724482    0.573550   \n",
       "3           1.535561    0.347631  0.504799   0.103669  2.441122    0.545844   \n",
       "4           1.619419    0.343338  0.516791   0.112011  2.869103    0.603847   \n",
       "\n",
       "metabolite  Propionate  Glutamate  Succinate  5,6-dihydrouracile ...   \\\n",
       "0             0.134651   0.309750   1.580362            0.064816 ...    \n",
       "1             0.164229   0.401138   2.052057            0.075339 ...    \n",
       "2             0.188889   0.452011   2.263600            0.089615 ...    \n",
       "3             0.190863   0.439846   1.999999            0.086456 ...    \n",
       "4             0.198183   0.455350   2.322054            0.092811 ...    \n",
       "\n",
       "metabolite         ?    Serine   Glucose    Uracil   Uridine  Tyrosine  \\\n",
       "0           1.153034  0.041728  0.001175  0.081093  0.000724  0.078666   \n",
       "1           1.503796  0.057747  0.003368  0.149192  0.000183  0.106194   \n",
       "2           1.683030  0.066523  0.002509  0.126703  0.000280  0.114196   \n",
       "3           1.532708  0.064146  0.005161  0.099306  0.000528  0.107324   \n",
       "4           1.690905  0.058477  0.001738  0.116270  0.001015  0.115765   \n",
       "\n",
       "metabolite  Phenylalanine  Hypoxanthine   Formate  cls  \n",
       "0                0.109909      0.002798  0.000132  1.0  \n",
       "1                0.142037      0.004069  0.000166  1.0  \n",
       "2                0.163359      0.005071  0.000230  1.0  \n",
       "3                0.151603      0.003879  0.000189  1.0  \n",
       "4                0.163214      0.004324  0.000472  1.0  \n",
       "\n",
       "[5 rows x 25 columns]"
      ]
     },
     "execution_count": 4,
     "metadata": {},
     "output_type": "execute_result"
    }
   ],
   "source": [
    "#create new dataframe with integrals that are associated to identified metabolites\n",
    "df2 = df[:, list(labels['idx'])]\n",
    "df2 = pd.DataFrame(df2, columns = labels['metabolite'])\n",
    "df2['cls'] = cls\n",
    "df2.head()"
   ]
  },
  {
   "cell_type": "code",
   "execution_count": 5,
   "metadata": {},
   "outputs": [
    {
     "name": "stdout",
     "output_type": "stream",
     "text": [
      "24 24 (24, 3)\n"
     ]
    }
   ],
   "source": [
    "#calclulate p-values comparing mean integral peaks comparing class 0 and class 1\n",
    "#if your classes are otherwise labelled the modify the code below\n",
    "#this also adjusts the p-values for multiple tests using the benjamini-hochberg false discovery rate correction\n",
    "#other methods can be found here:\n",
    "#http://www.statsmodels.org/devel/generated/statsmodels.sandbox.stats.multicomp.multipletests.html#statsmodels.sandbox.stats.multicomp.multipletests\n",
    "ps =[stats.ttest_ind(a=df2[df2['cls']==0][i].dropna(), \n",
    "                     b=df2[df2['cls']==1][i].dropna())[1] for i in labels['metabolite']]\n",
    "padj = multipletests(ps, alpha =  0.05, method ='fdr_bh')[1]\n",
    "print(len(ps), len(padj), labels.shape)\n",
    "df3= pd.DataFrame({'metabolite':labels['metabolite'],'p':ps, 'padj':padj})"
   ]
  },
  {
   "cell_type": "code",
   "execution_count": 6,
   "metadata": {},
   "outputs": [
    {
     "data": {
      "text/html": [
       "<div>\n",
       "<style>\n",
       "    .dataframe thead tr:only-child th {\n",
       "        text-align: right;\n",
       "    }\n",
       "\n",
       "    .dataframe thead th {\n",
       "        text-align: left;\n",
       "    }\n",
       "\n",
       "    .dataframe tbody tr th {\n",
       "        vertical-align: top;\n",
       "    }\n",
       "</style>\n",
       "<table border=\"1\" class=\"dataframe\">\n",
       "  <thead>\n",
       "    <tr style=\"text-align: right;\">\n",
       "      <th></th>\n",
       "      <th>metabolite</th>\n",
       "      <th>p</th>\n",
       "      <th>padj</th>\n",
       "      <th>fc</th>\n",
       "      <th>log2fc</th>\n",
       "      <th>log10padj</th>\n",
       "    </tr>\n",
       "  </thead>\n",
       "  <tbody>\n",
       "    <tr>\n",
       "      <th>0</th>\n",
       "      <td>Leucine</td>\n",
       "      <td>3.773878e-02</td>\n",
       "      <td>3.937960e-02</td>\n",
       "      <td>1.097892</td>\n",
       "      <td>0.134736</td>\n",
       "      <td>3.234507</td>\n",
       "    </tr>\n",
       "    <tr>\n",
       "      <th>1</th>\n",
       "      <td>Isoleucine</td>\n",
       "      <td>3.895405e-04</td>\n",
       "      <td>4.451892e-04</td>\n",
       "      <td>1.201669</td>\n",
       "      <td>0.265040</td>\n",
       "      <td>7.717011</td>\n",
       "    </tr>\n",
       "    <tr>\n",
       "      <th>2</th>\n",
       "      <td>Valine</td>\n",
       "      <td>6.272959e-05</td>\n",
       "      <td>8.363945e-05</td>\n",
       "      <td>1.266704</td>\n",
       "      <td>0.341080</td>\n",
       "      <td>9.388995</td>\n",
       "    </tr>\n",
       "    <tr>\n",
       "      <th>3</th>\n",
       "      <td>Threonine</td>\n",
       "      <td>2.467497e-18</td>\n",
       "      <td>9.869987e-18</td>\n",
       "      <td>0.329519</td>\n",
       "      <td>-1.601566</td>\n",
       "      <td>39.157033</td>\n",
       "    </tr>\n",
       "    <tr>\n",
       "      <th>4</th>\n",
       "      <td>Acetate</td>\n",
       "      <td>3.662893e-15</td>\n",
       "      <td>9.767714e-15</td>\n",
       "      <td>6.905590</td>\n",
       "      <td>2.787765</td>\n",
       "      <td>32.259694</td>\n",
       "    </tr>\n",
       "  </tbody>\n",
       "</table>\n",
       "</div>"
      ],
      "text/plain": [
       "   metabolite             p          padj        fc    log2fc  log10padj\n",
       "0     Leucine  3.773878e-02  3.937960e-02  1.097892  0.134736   3.234507\n",
       "1  Isoleucine  3.895405e-04  4.451892e-04  1.201669  0.265040   7.717011\n",
       "2      Valine  6.272959e-05  8.363945e-05  1.266704  0.341080   9.388995\n",
       "3   Threonine  2.467497e-18  9.869987e-18  0.329519 -1.601566  39.157033\n",
       "4    Acetate   3.662893e-15  9.767714e-15  6.905590  2.787765  32.259694"
      ]
     },
     "execution_count": 6,
     "metadata": {},
     "output_type": "execute_result"
    }
   ],
   "source": [
    "#calculate the fold change between class 0 and class 1\n",
    "#fold change is caculated as class-1/class-0\n",
    "a=np.mean(df2[df2['cls']==0])\n",
    "b= np.mean(df2[df2['cls']==1])\n",
    "fc = b/a\n",
    "fc =fc.drop('cls')\n",
    "df3['fc']=list(fc)\n",
    "df3['log2fc']= np.log2(df3['fc'])\n",
    "df3['log10padj'] = -np.log(df3['padj'])\n",
    "df3.head()"
   ]
  },
  {
   "cell_type": "code",
   "execution_count": 16,
   "metadata": {},
   "outputs": [
    {
     "data": {
      "text/plain": [
       "<matplotlib.legend.Legend at 0x20df020dc18>"
      ]
     },
     "execution_count": 16,
     "metadata": {},
     "output_type": "execute_result"
    },
    {
     "data": {
      "image/png": "[encoded data removed]",
      "text/plain": [
       "<matplotlib.figure.Figure at 0x20defb69b00>"
      ]
     },
     "metadata": {},
     "output_type": "display_data"
    }
   ],
   "source": [
    "#this cell will make the volcano plot. to save the plot get rid of the commented-out line at the bottom of the cell.\n",
    "#you can modify all the features of the plot below\n",
    "sns.set_context('talk')\n",
    "plt.style.use('fivethirtyeight')\n",
    "#subset signficant and non-signficant data for plotting\n",
    "data = df3\n",
    "dat1 = data[(data['log2fc']> 2) & (data['padj']<0.05)]\n",
    "dat2 = data[(data['log2fc']<-2) & (data['padj']<0.05)]\n",
    "dat3 = data[(data['log2fc'] <2) & (data['log2fc']>-2)]\n",
    "\n",
    "#generate plot\n",
    "fig,ax = plt.subplots(figsize =(8,8))\n",
    "ax.scatter(dat1['log2fc'], dat1['log10padj'], color = 'red',  label = 'up-regulated')\n",
    "ax.scatter(dat2['log2fc'], dat2['log10padj'], color = 'blue', label = 'down-regulated')\n",
    "ax.scatter(dat3['log2fc'], dat3['log10padj'], color = 'grey', label = 'not-significant')\n",
    "\n",
    "ax.set_xlim((data['log2fc'].min())*1.1, data['log2fc'].max()*1.1)\n",
    "ax.set_ylim(data['log10padj'].min()*0.9, data['log10padj'].max()*1.1)\n",
    "#set label texts\n",
    "ax.set_xlabel(r'$log_2$(Fold-Change)')\n",
    "ax.set_ylabel(r'$-log$(FDR adjusted p-value)')\n",
    "ax.set_title('Volcano Plot in Python')\n",
    "tok= ax.get_xlim()\n",
    "kan = ax.get_ylim()\n",
    "#add boundary lines\n",
    "ax.hlines(y = -np.log(0.05), xmin = tok[0], xmax = tok[1], linestyles ='--', linewidth = 2)\n",
    "ax.vlines(x =2, ymin =kan[0], ymax = kan[1], linestyles = '--', color = 'grey' , linewidth =2)\n",
    "ax.vlines(x =-2, ymin =kan[0], ymax = kan[1], linestyles = '--', color = 'grey', linewidth  =2 )\n",
    "#add labels to plot and then adjust them so they don't overlap\n",
    "texts = []\n",
    "for i in range(len(data)):\n",
    "    texts.append(ax.text(x = np.log2(data['fc'][i]),\n",
    "             y =-np.log(data['padj'][i]),\n",
    "             s = data['metabolite'][i]))\n",
    "adjust_text(texts, arrowprops=dict(arrowstyle=\"->\", color='k', lw=0.5))\n",
    "ax.legend()\n",
    "#plt.savefig('volcano_plot.png', dpi = 300)"
   ]
  },
  {
   "cell_type": "code",
   "execution_count": 17,
   "metadata": {},
   "outputs": [
    {
     "data": {
      "text/plain": [
       "<matplotlib.axes._subplots.AxesSubplot at 0x20df027f940>"
      ]
     },
     "execution_count": 17,
     "metadata": {},
     "output_type": "execute_result"
    },
    {
     "data": {
      "image/png": "[encoded data removed]",
      "text/plain": [
       "<matplotlib.figure.Figure at 0x20dee830f98>"
      ]
     },
     "metadata": {},
     "output_type": "display_data"
    }
   ],
   "source": [
    "#create boxplot of interesting metabolites\n",
    "met ='Choline'\n",
    "sns.swarmplot(x= 'cls', y = met, data = df2, color = 'black')\n",
    "sns.boxplot(x = 'cls', y = met, data =df2)"
   ]
  },
  {
   "cell_type": "code",
   "execution_count": null,
   "metadata": {
    "collapsed": true
   },
   "outputs": [],
   "source": []
  }
 ],
 "metadata": {
  "kernelspec": {
   "display_name": "Python 3",
   "language": "python",
   "name": "python3"
  },
  "language_info": {
   "codemirror_mode": {
    "name": "ipython",
    "version": 3
   },
   "file_extension": ".py",
   "mimetype": "text/x-python",
   "name": "python",
   "nbconvert_exporter": "python",
   "pygments_lexer": "ipython3",
   "version": "3.6.2"
  }
 },
 "nbformat": 4,
 "nbformat_minor": 2
}
